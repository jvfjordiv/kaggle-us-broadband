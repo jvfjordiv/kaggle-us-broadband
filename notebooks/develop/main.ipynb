{
 "cells": [
  {
   "cell_type": "markdown",
   "id": "7ca8c30a",
   "metadata": {},
   "source": [
    "# 0. Introduction\n",
    "\n",
    "You're currently using the Internet to read this and you're very thankful for that, but what about those people that do not have regular access to food or medical care? Here we have a dataset which tell us how many people in poverty situation have access to the internet in their homes in the United States. The original data can be found here: https://www.kaggle.com/mmattson/us-broadband-availability.\n",
    "\n",
    "We want to know which circumstance is the most stopping for people from having Internet access at home, and which state is the most precarious in that matter.\n",
    "\n",
    "For that, we'll follow these three steps:\n",
    "\n",
    "* We'll decide which are the most useful attributes and those to be processed.(!)\n",
    "* We'll briefly describe the computational method applied along with the chosen parameters (!)\n",
    "* And we'll expose our results.\n",
    "\n",
    "First of all we'll need to import some libraries:\n",
    "* Using *numpy* and *pandas* we'll treat our data.\n",
    "* With *skicit-learn* we'll train and test our models.\n",
    "\n",
    "\n",
    "# 1. Data mining\n",
    "\n",
    "As we said in the introduction, we only want to know information related to states, so we'll have 50 rows of data for each state and it'll be easier to process."
   ]
  },
  {
   "cell_type": "code",
   "execution_count": null,
   "id": "b7670e05",
   "metadata": {},
   "outputs": [],
   "source": []
  }
 ],
 "metadata": {
  "kernelspec": {
   "display_name": "Python 3 (ipykernel)",
   "language": "python",
   "name": "python3"
  },
  "language_info": {
   "codemirror_mode": {
    "name": "ipython",
    "version": 3
   },
   "file_extension": ".py",
   "mimetype": "text/x-python",
   "name": "python",
   "nbconvert_exporter": "python",
   "pygments_lexer": "ipython3",
   "version": "3.9.7"
  }
 },
 "nbformat": 4,
 "nbformat_minor": 5
}
