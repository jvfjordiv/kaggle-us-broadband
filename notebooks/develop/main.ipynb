{
 "cells": [
  {
   "cell_type": "markdown",
   "id": "7ca8c30a",
   "metadata": {},
   "source": [
    "# 0. Introduction\n",
    "\n",
    "You're currently using the Internet to read this and you're very thankful for that, but what about those people that do not have regular access to food or medical care? Here we have a dataset which tell us how many people in poverty situation have access to the internet in their homes in the United States. The original data can be found here: https://www.kaggle.com/mmattson/us-broadband-availability. We won't be using the `source_sets` folder.\n",
    "\n",
    "We want to know which circumstance is the most stopping for people from having Internet access at home, and which state is the most precarious in that matter.\n",
    "\n",
    "For that, we'll follow these three steps:\n",
    "\n",
    "* We'll decide which are the most useful attributes and which one we will process.\n",
    "* We'll briefly describe the computational method applied along with the chosen parameters (!)\n",
    "* And we'll expose our results.\n",
    "\n",
    "First of all we'll need to import some libraries:\n",
    "* Using *numpy* and *pandas* we'll treat our data.\n",
    "* With *skicit-learn* we'll train and test our models.\n",
    "* With *matplotlib* we generate some graphics."
   ]
  },
  {
   "cell_type": "code",
   "execution_count": 4,
   "id": "b7670e05",
   "metadata": {},
   "outputs": [],
   "source": [
    "#first things first\n",
    "import numpy as np\n",
    "import pandas as pd\n",
    "#import matplotlib.pyplot as plt\n",
    "#import seaborn as sns"
   ]
  },
  {
   "cell_type": "markdown",
   "id": "8f23147a",
   "metadata": {},
   "source": [
    "# 1. Data mining\n",
    "\n",
    "First of all, we read it:"
   ]
  },
  {
   "cell_type": "code",
   "execution_count": 8,
   "id": "d9566348",
   "metadata": {},
   "outputs": [
    {
     "name": "stdout",
     "output_type": "stream",
     "text": [
      "We have 3142 entries.\n",
      "                 full_name   county    state state_abr  population  unemp  \\\n",
      "0  Autauga County, Alabama  Autauga  Alabama        AL     55869.0    2.7   \n",
      "1  Baldwin County, Alabama  Baldwin  Alabama        AL    223234.0    2.7   \n",
      "2  Barbour County, Alabama  Barbour  Alabama        AL     24686.0    3.8   \n",
      "3     Bibb County, Alabama     Bibb  Alabama        AL     22394.0    3.1   \n",
      "4   Blount County, Alabama   Blount  Alabama        AL     57826.0    2.7   \n",
      "\n",
      "   health_ins  poverty  SNAP  no_comp  no_internet  home_broad  broad_num  \\\n",
      "0         7.1     15.4  12.7     13.0         20.9        78.9        0.0   \n",
      "1        10.2     10.6   7.5     11.4         21.3        78.1        0.0   \n",
      "2        11.2     28.9  27.4     23.9         38.9        60.4        4.0   \n",
      "3         7.9     14.0  12.4     23.7         33.8        66.1        0.0   \n",
      "4        11.0     14.4   9.5     21.3         30.6        68.5        0.0   \n",
      "\n",
      "   broad_avail  broad_cost  population_bbn  price_bbn  wired_bbn  provide_bbn  \\\n",
      "0          0.0         NaN         55059.0       35.0   5.433317    11.958735   \n",
      "1          0.0         NaN        180490.0       35.0   4.207574    10.167898   \n",
      "2         99.2       74.99         24729.0       35.0   6.778438    12.959400   \n",
      "3          0.0         NaN         23339.0       35.0   3.165046     9.318823   \n",
      "4          0.0         NaN         44950.0       35.0   4.984383    13.231057   \n",
      "\n",
      "   all25_bbn  downave_bbn  access_bbn  slowfrac_bbn  \n",
      "0   8.131568    83.951900   90.764671      0.163752  \n",
      "1   6.349044    63.760479   92.428766      0.691290  \n",
      "2   7.704355    47.471497   79.683691      0.134174  \n",
      "3   4.041690    29.732685   41.738078      0.499893  \n",
      "4   7.862336    20.749740   79.697642      1.000000  \n"
     ]
    }
   ],
   "source": [
    "#loading\n",
    "pd.set_option('display.max_columns', None)\n",
    "csv = pd.read_csv('../../data/broadband_access.csv')\n",
    "print(\"We have\", csv.shape[0], \"entries.\")\n",
    "print(csv.head())"
   ]
  },
  {
   "cell_type": "markdown",
   "id": "f0ed2ccb",
   "metadata": {},
   "source": [
    "We don't need that many entries. As we said in the introduction, we only want to know information related to states, so we'll have 50 rows of data for each state and it'll be easier to process. We'll create two dataframes since we need to combine some data differently (we'll have to sum the counties population and we'll have to calculate the ratio's mean separately, and then we'll join them).\n",
    "\n",
    "But do we need all attributes?\n",
    "* `state_abr` is redundant.\n",
    "* `county` and `full_name` will be removed since we don't need specific county data, and `full_name` is comprised by `county` and `state`.\n",
    "* We'll remove the `home_broad` (home broadband) attribute, since it fells redundant because we already have the `no_internet` (no internet at home) one.\n",
    "* Those that come with a `_bbn` suffix will be eliminated since they repeat already-known data and include unnecessary details."
   ]
  },
  {
   "cell_type": "code",
   "execution_count": 20,
   "id": "8728ad19",
   "metadata": {},
   "outputs": [
    {
     "name": "stdout",
     "output_type": "stream",
     "text": [
      "            population     unemp  health_ins    poverty       SNAP    no_comp  \\\n",
      "state                                                                           \n",
      "Alabama      4903185.0  3.446269   10.488060  20.337313  17.507463  22.944776   \n",
      "Alaska        731545.0  8.320690   19.934483  13.317241  15.875862  11.262069   \n",
      "Arizona      7278717.0  6.446667   11.640000  20.000000  15.953333  16.613333   \n",
      "Arkansas     3017804.0  4.184000    8.637333  19.833333  15.681333  20.741333   \n",
      "California  39512223.0  5.098276    7.808621  15.020690  10.517241  10.837931   \n",
      "\n",
      "            no_internet  broad_num  broad_avail  broad_cost  \n",
      "state                                                        \n",
      "Alabama       33.577612   3.409091    57.825758   88.327222  \n",
      "Alaska        23.951724   5.344828    69.051724   66.427143  \n",
      "Arizona       27.780000   3.333333    59.046667   59.987333  \n",
      "Arkansas      35.129333   3.786667    60.314667   60.787733  \n",
      "California    18.086207   4.982759    76.705172   70.025862  \n"
     ]
    }
   ],
   "source": [
    "#Here we'll have one dataframe with only info related to population per state.\n",
    "df1 = csv[['state', 'population']].copy()\n",
    "df1 = df1.groupby(['state']).sum()\n",
    "\n",
    "#And another one will all the other useful info. We are only going to copy the attributes we want.\n",
    "df2 = csv[['state', 'unemp', 'health_ins', 'poverty', 'SNAP', 'no_comp', 'no_internet', 'broad_num', 'broad_avail', 'broad_cost']].copy()\n",
    "df2 = df2.groupby(['state']).mean()\n",
    "\n",
    "#And now we join them.\n",
    "df = df1.join(df2, lsuffix=\"_left\", rsuffix=\"_right\")\n",
    "print(df.head())"
   ]
  },
  {
   "cell_type": "markdown",
   "id": "7375f28e",
   "metadata": {},
   "source": [
    "The `no_internet` (percent with no home internet) attribute is the one that interests us the most, and is the one to be processed.\n",
    "\n",
    "# 2. Data analysis\n",
    "\n",
    "TBC"
   ]
  }
 ],
 "metadata": {
  "kernelspec": {
   "display_name": "Python 3 (ipykernel)",
   "language": "python",
   "name": "python3"
  },
  "language_info": {
   "codemirror_mode": {
    "name": "ipython",
    "version": 3
   },
   "file_extension": ".py",
   "mimetype": "text/x-python",
   "name": "python",
   "nbconvert_exporter": "python",
   "pygments_lexer": "ipython3",
   "version": "3.9.7"
  }
 },
 "nbformat": 4,
 "nbformat_minor": 5
}
